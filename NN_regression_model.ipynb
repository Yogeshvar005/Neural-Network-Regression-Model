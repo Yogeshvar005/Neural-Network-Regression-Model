{
  "nbformat": 4,
  "nbformat_minor": 0,
  "metadata": {
    "colab": {
      "provenance": [],
      "gpuType": "V28"
    },
    "kernelspec": {
      "name": "python3",
      "display_name": "Python 3"
    },
    "language_info": {
      "name": "python"
    },
    "accelerator": "TPU"
  },
  "cells": [
    {
      "cell_type": "code",
      "execution_count": null,
      "metadata": {
        "id": "VJOBET7aZuAs"
      },
      "outputs": [],
      "source": [
        "import torch\n",
        "import torch.nn as nn\n",
        "import torch.optim as optim\n",
        "import pandas as pd\n",
        "from sklearn.model_selection import train_test_split\n",
        "from sklearn.preprocessing import MinMaxScaler"
      ]
    },
    {
      "cell_type": "code",
      "source": [
        "dataset1 = pd.read_csv('deep.csv')\n",
        "X = dataset1[['input']].values\n",
        "y = dataset1[['output']].values"
      ],
      "metadata": {
        "id": "PaKxT9lYZ7_r"
      },
      "execution_count": null,
      "outputs": []
    },
    {
      "cell_type": "code",
      "source": [
        "X_train, X_test, y_train, y_test = train_test_split(X, y, test_size=0.33, random_state=33)"
      ],
      "metadata": {
        "id": "0s9XNKnraBB1"
      },
      "execution_count": null,
      "outputs": []
    },
    {
      "cell_type": "code",
      "source": [
        "scaler = MinMaxScaler()\n",
        "X_train = scaler.fit_transform(X_train)\n",
        "X_test = scaler.transform(X_test)"
      ],
      "metadata": {
        "id": "YhvC6ogzaEHT"
      },
      "execution_count": null,
      "outputs": []
    },
    {
      "cell_type": "code",
      "source": [
        "X_train_tensor = torch.tensor(X_train, dtype=torch.float32)\n",
        "y_train_tensor = torch.tensor(y_train, dtype=torch.float32).view(-1, 1)\n",
        "X_test_tensor = torch.tensor(X_test, dtype=torch.float32)\n",
        "y_test_tensor = torch.tensor(y_test, dtype=torch.float32).view(-1, 1)"
      ],
      "metadata": {
        "id": "ht0VjANUaImU"
      },
      "execution_count": null,
      "outputs": []
    },
    {
      "cell_type": "code",
      "source": [
        "class NeuralNet(nn.Module):\n",
        "  def __init__(self):\n",
        "        super().__init__()\n",
        "        self.fc1 = nn.Linear(1, 8)\n",
        "        self.fc2 = nn.Linear(8, 10)\n",
        "        self.fc3 = nn.Linear(10, 1)\n",
        "        self.relu = nn.ReLU()\n",
        "        self.history = {'loss': []}\n",
        "\n",
        "  def forward(self, x):\n",
        "        x = self.relu(self.fc1(x))\n",
        "        x = self.relu(self.fc2(x))\n",
        "        x = self.fc3(x)\n",
        "        return x\n",
        "\n",
        "\n"
      ],
      "metadata": {
        "id": "sFkMMUXwIsxs"
      },
      "execution_count": null,
      "outputs": []
    },
    {
      "cell_type": "code",
      "source": [
        "\n",
        "ai_brain = NeuralNet()\n",
        "criterion = nn.MSELoss()\n",
        "optimizer = optim.RMSprop(ai_brain.parameters(), lr=0.001)\n",
        "\n"
      ],
      "metadata": {
        "id": "LYCcZwd3aVXr"
      },
      "execution_count": null,
      "outputs": []
    },
    {
      "cell_type": "code",
      "source": [
        "# Name: Yogeshvar M\n",
        "# Register Number: 212222230180\n",
        "def train_model(ai_brain, X_train, y_train, criterion, optimizer, epochs=4000):\n",
        "    # Write your code here\n",
        "    for epoch in range(epochs):\n",
        "        optimizer.zero_grad()\n",
        "        outputs = ai_brain(X_train)\n",
        "        loss = criterion(outputs, y_train)\n",
        "        loss.backward()\n",
        "        optimizer.step()\n",
        "\n",
        "        ai_brain.history['loss'].append(loss.item())\n",
        "        if epoch % 200 == 0:\n",
        "            print(f'Epoch [{epoch}/{epochs}], Loss: {loss.item():.6f}')\n"
      ],
      "metadata": {
        "id": "j04FRGu5aabj"
      },
      "execution_count": null,
      "outputs": []
    },
    {
      "cell_type": "code",
      "source": [
        "train_model(ai_brain, X_train_tensor, y_train_tensor, criterion, optimizer)"
      ],
      "metadata": {
        "id": "3nT2R4-NanGb",
        "colab": {
          "base_uri": "https://localhost:8080/"
        },
        "outputId": "dd4ab6e8-31dd-4cf2-c7b3-f4def9b647c1"
      },
      "execution_count": null,
      "outputs": [
        {
          "output_type": "stream",
          "name": "stdout",
          "text": [
            "Epoch [0/4000], Loss: 0.014778\n",
            "Epoch [200/4000], Loss: 0.014827\n",
            "Epoch [400/4000], Loss: 0.014724\n",
            "Epoch [600/4000], Loss: 0.014728\n",
            "Epoch [800/4000], Loss: 0.014683\n",
            "Epoch [1000/4000], Loss: 0.014385\n",
            "Epoch [1200/4000], Loss: 0.014644\n",
            "Epoch [1400/4000], Loss: 0.014805\n",
            "Epoch [1600/4000], Loss: 0.014717\n",
            "Epoch [1800/4000], Loss: 0.014885\n",
            "Epoch [2000/4000], Loss: 0.015054\n",
            "Epoch [2200/4000], Loss: 0.015013\n",
            "Epoch [2400/4000], Loss: 0.014619\n",
            "Epoch [2600/4000], Loss: 0.014841\n",
            "Epoch [2800/4000], Loss: 0.015143\n",
            "Epoch [3000/4000], Loss: 0.015241\n",
            "Epoch [3200/4000], Loss: 0.015196\n",
            "Epoch [3400/4000], Loss: 0.015351\n",
            "Epoch [3600/4000], Loss: 0.015349\n",
            "Epoch [3800/4000], Loss: 0.015086\n"
          ]
        }
      ]
    },
    {
      "cell_type": "code",
      "source": [
        "with torch.no_grad():\n",
        "    test_loss = criterion(ai_brain(X_test_tensor), y_test_tensor)\n",
        "    print(f'Test Loss: {test_loss.item():.6f}')\n",
        "\n"
      ],
      "metadata": {
        "id": "Hs52rJD-aq-r",
        "colab": {
          "base_uri": "https://localhost:8080/"
        },
        "outputId": "c45071cf-156a-47f0-c797-1ff241cb561d"
      },
      "execution_count": null,
      "outputs": [
        {
          "output_type": "stream",
          "name": "stdout",
          "text": [
            "Test Loss: 5.400432\n"
          ]
        }
      ]
    },
    {
      "cell_type": "code",
      "source": [
        "loss_df = pd.DataFrame(ai_brain.history)"
      ],
      "metadata": {
        "id": "fSU0R1jPYzBY"
      },
      "execution_count": null,
      "outputs": []
    },
    {
      "cell_type": "code",
      "source": [
        "import matplotlib.pyplot as plt\n",
        "loss_df.plot()\n",
        "plt.xlabel(\"Epochs\")\n",
        "plt.ylabel(\"Loss\")\n",
        "plt.title(\"Loss during Training\")\n",
        "plt.show()"
      ],
      "metadata": {
        "id": "XRU1WLwAZuh4",
        "colab": {
          "base_uri": "https://localhost:8080/",
          "height": 472
        },
        "outputId": "7904e388-f6b9-4084-dff6-35ee334c6945"
      },
      "execution_count": null,
      "outputs": [
        {
          "output_type": "display_data",
          "data": {
            "text/plain": [
              "<Figure size 640x480 with 1 Axes>"
            ],
            "image/png": "[encoded data removed]"
          },
          "metadata": {}
        }
      ]
    },
    {
      "cell_type": "code",
      "source": [
        "X_n1_1 = torch.tensor([[9]], dtype=torch.float32)\n",
        "prediction = ai_brain(torch.tensor(scaler.transform(X_n1_1), dtype=torch.float32)).item()\n",
        "print(f'Prediction: {prediction}')"
      ],
      "metadata": {
        "id": "mr_JhBRZauxb",
        "colab": {
          "base_uri": "https://localhost:8080/"
        },
        "outputId": "8c7625de-bfb4-4ac2-d431-7e8850df5195"
      },
      "execution_count": null,
      "outputs": [
        {
          "output_type": "stream",
          "name": "stdout",
          "text": [
            "Prediction: 91.10371398925781\n"
          ]
        }
      ]
    }
  ]
}